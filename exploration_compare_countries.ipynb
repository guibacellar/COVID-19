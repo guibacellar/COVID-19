{
 "cells": [
  {
   "cell_type": "code",
   "execution_count": 1,
   "metadata": {
    "pycharm": {
     "is_executing": false
    }
   },
   "outputs": [],
   "source": [
    "%matplotlib widget\n",
    "\n",
    "import pandas as pd\n",
    "import matplotlib.pyplot as plt\n",
    "import numpy as np"
   ]
  },
  {
   "cell_type": "code",
   "execution_count": 2,
   "metadata": {
    "pycharm": {
     "is_executing": false
    }
   },
   "outputs": [],
   "source": [
    "df = pd.read_csv('data/all_timeline_with_features.csv')"
   ]
  },
  {
   "cell_type": "code",
   "execution_count": 3,
   "metadata": {
    "pycharm": {
     "is_executing": false
    }
   },
   "outputs": [
    {
     "data": {
      "text/plain": [
       "Index(['date', 'countrycode', 'countrylabel', 'totalcases', 'totaldeaths',\n",
       "       'totalrecovered', 'ft01_previous_day_totalcases',\n",
       "       'ft02_previous_day_totaldeaths', 'ft03_previous_day_totalrecovered',\n",
       "       'ft04_new_cases_per_day', 'ft05_new_deaths_per_day',\n",
       "       'ft06_new_recovered_per_day', 'ft07_previous_day_new_cases_per_day',\n",
       "       'ft08_previous_day_new_deaths_per_day',\n",
       "       'ft09_previous_day_new_recovered_per_day', 'ft10_cases_evolution_rate',\n",
       "       'ft11_deaths_evolution_rate', 'ft12_recovered_evolution_rate',\n",
       "       'ft13_death_percent'],\n",
       "      dtype='object')"
      ]
     },
     "execution_count": 3,
     "metadata": {},
     "output_type": "execute_result"
    }
   ],
   "source": [
    "df.columns"
   ]
  },
  {
   "cell_type": "code",
   "execution_count": 63,
   "metadata": {
    "pycharm": {
     "is_executing": false
    }
   },
   "outputs": [],
   "source": [
    "BR = df[(df['countrycode'] == 'BR') & (df['totalcases'].notna())]\n",
    "BR = BR[len(BR)*-1:-1]\n",
    "\n",
    "US = df[(df['countrycode'] == 'US') & (df['totalcases'].notna())]\n",
    "US = US[len(BR)*-1:-1]\n",
    "\n",
    "IT = df[(df['countrycode'] == 'IT') & (df['totalcases'].notna())]\n",
    "IT = IT[len(BR)*-1:-1]\n",
    "\n",
    "CN = df[(df['countrycode'] == 'CN') & (df['totalcases'].notna())]\n",
    "CN = IT[len(BR)*-1:-1]\n",
    "\n",
    "all_countries = [\n",
    "    { 'id': 0, 'ds': BR, 'color': 'green', 'name': 'Brazil' },\n",
    "    { 'id': 1, 'ds': US, 'color': 'blue', 'name': 'USA' },\n",
    "    { 'id': 2, 'ds': IT, 'color': 'red', 'name': 'Italy' },\n",
    "    { 'id': 3, 'ds': CN, 'color': 'black', 'name': 'China' }\n",
    "]"
   ]
  },
  {
   "cell_type": "code",
   "execution_count": 64,
   "metadata": {},
   "outputs": [
    {
     "name": "stderr",
     "output_type": "stream",
     "text": [
      "c:\\projetos\\covid-19\\venv\\lib\\site-packages\\ipykernel_launcher.py:2: RuntimeWarning: More than 20 figures have been opened. Figures created through the pyplot interface (`matplotlib.pyplot.figure`) are retained until explicitly closed and may consume too much memory. (To control this warning, see the rcParam `figure.max_open_warning`).\n",
      "  \n"
     ]
    },
    {
     "data": {
      "application/vnd.jupyter.widget-view+json": {
       "model_id": "62500be4deaf4c2b9ed25f0750db9c68",
       "version_major": 2,
       "version_minor": 0
      },
      "text/plain": [
       "Canvas(toolbar=Toolbar(toolitems=[('Home', 'Reset original view', 'home', 'home'), ('Back', 'Back to previous …"
      ]
     },
     "metadata": {},
     "output_type": "display_data"
    }
   ],
   "source": [
    "# Total Cases\n",
    "fig, ax = plt.subplots(len(all_countries), figsize=(9, 7), constrained_layout=True, sharex=True, sharey=False)  # Set Figure Size\n",
    "plt.xticks(rotation=90)  # Rotate X Label\n",
    "\n",
    "fig.suptitle(f\"Total Cases\")\n",
    "\n",
    "for target_country in all_countries:\n",
    "    ax[target_country['id']].plot(\n",
    "        target_country['ds']['date'],\n",
    "        target_country['ds']['totalcases'],\n",
    "        color=target_country['color'],\n",
    "        marker='+',\n",
    "        label=\"Cases\"\n",
    "    )\n",
    "    ax[target_country['id']].set_ylabel(\n",
    "        target_country['name'], \n",
    "        color=target_country['color']\n",
    "    )"
   ]
  },
  {
   "cell_type": "code",
   "execution_count": 69,
   "metadata": {},
   "outputs": [
    {
     "name": "stderr",
     "output_type": "stream",
     "text": [
      "c:\\projetos\\covid-19\\venv\\lib\\site-packages\\ipykernel_launcher.py:2: RuntimeWarning: More than 20 figures have been opened. Figures created through the pyplot interface (`matplotlib.pyplot.figure`) are retained until explicitly closed and may consume too much memory. (To control this warning, see the rcParam `figure.max_open_warning`).\n",
      "  \n"
     ]
    },
    {
     "data": {
      "application/vnd.jupyter.widget-view+json": {
       "model_id": "6eade08f12f1412c88004d5f2fea47cd",
       "version_major": 2,
       "version_minor": 0
      },
      "text/plain": [
       "Canvas(toolbar=Toolbar(toolitems=[('Home', 'Reset original view', 'home', 'home'), ('Back', 'Back to previous …"
      ]
     },
     "metadata": {},
     "output_type": "display_data"
    }
   ],
   "source": [
    "# Total Cases\n",
    "fig, ax = plt.subplots(len(all_countries), figsize=(9, 7), constrained_layout=True, sharex=True, sharey=False)  # Set Figure Size\n",
    "plt.xticks(rotation=90)  # Rotate X Label\n",
    "\n",
    "fig.suptitle(f\"New Cases per Day\")\n",
    "\n",
    "for target_country in all_countries:\n",
    "    ax[target_country['id']].plot(\n",
    "        target_country['ds']['date'],\n",
    "        target_country['ds']['ft04_new_cases_per_day'],\n",
    "        color=target_country['color'],\n",
    "        marker='+',\n",
    "        label=\"Cases\"\n",
    "    )\n",
    "    ax[target_country['id']].set_ylabel(\n",
    "        target_country['name'], \n",
    "        color=target_country['color']\n",
    "    )"
   ]
  }
 ],
 "metadata": {
  "kernelspec": {
   "display_name": "Python 3",
   "language": "python",
   "name": "python3"
  },
  "language_info": {
   "codemirror_mode": {
    "name": "ipython",
    "version": 3
   },
   "file_extension": ".py",
   "mimetype": "text/x-python",
   "name": "python",
   "nbconvert_exporter": "python",
   "pygments_lexer": "ipython3",
   "version": "3.7.6"
  },
  "pycharm": {
   "stem_cell": {
    "cell_type": "raw",
    "metadata": {
     "collapsed": false
    },
    "source": []
   }
  }
 },
 "nbformat": 4,
 "nbformat_minor": 1
}
